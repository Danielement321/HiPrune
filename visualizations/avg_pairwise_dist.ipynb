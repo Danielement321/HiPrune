{
 "cells": [
  {
   "cell_type": "markdown",
   "id": "9f99b92b",
   "metadata": {},
   "source": [
    "## Notebook for computing avergae pairwise distance of high-attention tokens from different layers in CLIP"
   ]
  },
  {
   "cell_type": "code",
   "execution_count": null,
   "id": "2923ac9f",
   "metadata": {},
   "outputs": [],
   "source": [
    "import os\n",
    "import torch\n",
    "import numpy as np\n",
    "import matplotlib.pyplot as plt\n",
    "from PIL import Image\n",
    "from tqdm.notebook import tqdm\n",
    "from transformers import CLIPProcessor, CLIPModel\n",
    "from scipy.spatial.distance import pdist"
   ]
  },
  {
   "cell_type": "code",
   "execution_count": null,
   "id": "710cf3c9",
   "metadata": {},
   "outputs": [],
   "source": [
    "COCO_IMAGE_DIR = \"/media/daniel/Data/Datasets/val2017\"\n",
    "# Path to COCO val2017 dataset. You can download from\n",
    "# http://images.cocodataset.org/zips/val2017.zip\n",
    "\n",
    "DEVICE = \"cuda\" if torch.cuda.is_available() else \"cpu\"\n",
    "BATCH_SIZE = 16\n",
    "TOP_PERCENT = 0.05  # 0.05, 0.1, 0.25 in our paper"
   ]
  },
  {
   "cell_type": "code",
   "execution_count": null,
   "id": "572d732f",
   "metadata": {},
   "outputs": [],
   "source": [
    "clip_path = \"openai/clip-vit-large-patch14-336\"\n",
    "model = CLIPModel.from_pretrained(clip_path).to(DEVICE)\n",
    "processor = CLIPProcessor.from_pretrained(clip_path)"
   ]
  },
  {
   "cell_type": "code",
   "execution_count": null,
   "id": "6d5d209f",
   "metadata": {},
   "outputs": [],
   "source": [
    "def get_image_paths(folder):\n",
    "    image_extensions = ['.jpg', '.jpeg', '.png', '.bmp']\n",
    "    return [\n",
    "        os.path.join(folder, f) for f in os.listdir(folder) \n",
    "        if os.path.splitext(f)[1].lower() in image_extensions\n",
    "    ]\n",
    "\n",
    "def get_attention_and_last_features(image, layer_idx):\n",
    "    inputs = processor(images=image, return_tensors=\"pt\", padding=True)\n",
    "    inputs = {k: v.to(DEVICE) for k, v in inputs.items()}\n",
    "\n",
    "    with torch.no_grad():\n",
    "        outputs = model.vision_model(\n",
    "            **inputs, \n",
    "            output_attentions=True,\n",
    "            output_hidden_states=True\n",
    "        )\n",
    "\n",
    "    attentions = outputs.attentions[layer_idx]  # (batch, heads, seq_len, seq_len)\n",
    "    last_features = outputs.hidden_states[-1]     # (batch, seq_len, hidden_size)\n",
    "    \n",
    "    return attentions, last_features\n",
    "\n",
    "def process_batch(images, layer_idx):\n",
    "    attentions, last_features = get_attention_and_last_features(images, layer_idx)\n",
    "    \n",
    "    batch_results = []\n",
    "    for i in range(len(images)):\n",
    "        img_attn = attentions[i]\n",
    "        img_feat = last_features[i]\n",
    "        token_scores = img_attn.mean(dim=0).sum(0)[1:]\n",
    "\n",
    "        num_top = max(1, int(len(token_scores) * TOP_PERCENT))\n",
    "        top_indices = torch.topk(token_scores, num_top).indices + 1 # Exclude CLS\n",
    "\n",
    "        top_features = img_feat[top_indices].cpu().numpy()\n",
    "\n",
    "        if len(top_features) > 1:\n",
    "            distances = pdist(top_features, 'euclidean')\n",
    "            avg_distance = np.mean(distances)\n",
    "        else:\n",
    "            avg_distance = 0.0 \n",
    "        batch_results.append(avg_distance)\n",
    "    \n",
    "    return batch_results"
   ]
  },
  {
   "cell_type": "code",
   "execution_count": null,
   "id": "a4ac7242",
   "metadata": {},
   "outputs": [],
   "source": [
    "image_paths = get_image_paths(COCO_IMAGE_DIR)\n",
    "print(f\"Found {len(image_paths)} images in {COCO_IMAGE_DIR}\")\n",
    "\n",
    "for layer_idx in range(24):\n",
    "    all_distances = []\n",
    "\n",
    "    for i in tqdm(range(0, len(image_paths), BATCH_SIZE)):\n",
    "        batch_paths = image_paths[i:i+BATCH_SIZE]\n",
    "        batch_images = [Image.open(path) for path in batch_paths]\n",
    "        batch_distances = process_batch(batch_images, layer_idx)\n",
    "        all_distances.extend(batch_distances)\n",
    "    \n",
    "    print(f\"Avg pairwise dist for Layer {layer_idx+1}: {np.mean(all_distances):.3f}\")"
   ]
  },
  {
   "cell_type": "code",
   "execution_count": null,
   "id": "c82e041e",
   "metadata": {},
   "outputs": [],
   "source": [
    "plt.figure(figsize=(12, 3))\n",
    "plt.plot(all_distances)"
   ]
  }
 ],
 "metadata": {
  "kernelspec": {
   "display_name": "base",
   "language": "python",
   "name": "python3"
  },
  "language_info": {
   "codemirror_mode": {
    "name": "ipython",
    "version": 3
   },
   "file_extension": ".py",
   "mimetype": "text/x-python",
   "name": "python",
   "nbconvert_exporter": "python",
   "pygments_lexer": "ipython3",
   "version": "3.13.5"
  }
 },
 "nbformat": 4,
 "nbformat_minor": 5
}
